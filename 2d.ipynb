{
 "cells": [
  {
   "cell_type": "code",
   "execution_count": 1,
   "id": "0630d0e4-aae2-4c21-af47-343bcfc1359a",
   "metadata": {},
   "outputs": [],
   "source": [
    "#2d"
   ]
  },
  {
   "cell_type": "code",
   "execution_count": 11,
   "id": "35db32ca-7a57-4f18-b8a2-7609418a770e",
   "metadata": {},
   "outputs": [],
   "source": [
    "import cv2 as c\n",
    "import numpy as np"
   ]
  },
  {
   "cell_type": "code",
   "execution_count": 12,
   "id": "bb205c4c-ab33-42a1-af5a-5c301c557a62",
   "metadata": {},
   "outputs": [
    {
     "name": "stdout",
     "output_type": "stream",
     "text": [
      "\n"
     ]
    }
   ],
   "source": [
    "# Function to compute histogram comparison metrics\n",
    "def compare_histograms(hist1, hist2, metric):\n",
    "    if metric == 'euclidean':\n",
    "        return np.linalg.norm(hist1 - hist2)\n",
    "    elif metric == 'manhattan':\n",
    "        return np.sum(np.abs(hist1 - hist2))\n",
    "    elif metric == 'bhattacharyya':\n",
    "        return c.compareHist(hist1, hist2, c.HISTCMP_BHATTACHARYYA)\n",
    "    elif metric == 'intersection':\n",
    "        return c.compareHist(hist1, hist2, c.HISTCMP_INTERSECT)\n",
    "    else:\n",
    "        raise ValueError(\"Invalid metric\")\n",
    "print()"
   ]
  },
  {
   "cell_type": "code",
   "execution_count": 13,
   "id": "01abb6b5-7cbc-4d92-b953-7ca00b4a022a",
   "metadata": {},
   "outputs": [],
   "source": [
    "# Loading the images (two from the same class, one from a different class)\n",
    "img1 = c.imread(r'V:\\poo asgn\\Images\\n02093256-Staffordshire_bullterrier\\n02093256_225.jpg')\n",
    "img2 = c.imread(r'V:\\poo asgn\\Images\\n02093256-Staffordshire_bullterrier\\n02093256_264.jpg')\n",
    "img3 = c.imread(r'V:\\poo asgn\\Images\\n02111277-Newfoundland\\n02111277_110.jpg')"
   ]
  },
  {
   "cell_type": "code",
   "execution_count": 14,
   "id": "92abb626-5aff-4a93-8dc3-5a861dfde45f",
   "metadata": {},
   "outputs": [],
   "source": [
    "# Converting the images to grayscale\n",
    "gray_img1 = c.cvtColor(img1, c.COLOR_BGR2GRAY)\n",
    "gray_img2 = c.cvtColor(img2, c.COLOR_BGR2GRAY)\n",
    "gray_img3 = c.cvtColor(img3, c.COLOR_BGR2GRAY)"
   ]
  },
  {
   "cell_type": "code",
   "execution_count": 15,
   "id": "312303b6-dfc1-4194-b2db-2e66822d2eaf",
   "metadata": {},
   "outputs": [],
   "source": [
    "# Computing histograms for the grayscale images\n",
    "hist1 = c.calcHist([gray_img1], [0], None, [256], [0, 256])\n",
    "hist2 = c.calcHist([gray_img2], [0], None, [256], [0, 256])\n",
    "hist3 = c.calcHist([gray_img3], [0], None, [256], [0, 256])"
   ]
  },
  {
   "cell_type": "code",
   "execution_count": 16,
   "id": "e00b001a-e4e1-483a-b12b-b7e998e95f29",
   "metadata": {},
   "outputs": [],
   "source": [
    "# Normalizing histograms\n",
    "hist1 /= hist1.sum()\n",
    "hist2 /= hist2.sum()\n",
    "hist3 /= hist3.sum()"
   ]
  },
  {
   "cell_type": "code",
   "execution_count": 17,
   "id": "ae988270-89ad-4848-84b2-119b2f6bf6fc",
   "metadata": {},
   "outputs": [
    {
     "name": "stdout",
     "output_type": "stream",
     "text": [
      "Euclidean Distance (Same Class): 0.07\n",
      "Euclidean Distance (Different Class): 0.08\n",
      "Manhattan Distance (Same Class): 0.83\n",
      "Manhattan Distance (Different Class): 0.81\n",
      "Bhattacharyya Distance (Same Class): 0.40\n",
      "Bhattacharyya Distance (Different Class): 0.36\n",
      "Intersection Distance (Same Class): 0.58\n",
      "Intersection Distance (Different Class): 0.59\n",
      "\n"
     ]
    }
   ],
   "source": [
    "# Calculating histogram comparison metrics\n",
    "metrics = ['euclidean', 'manhattan', 'bhattacharyya', 'intersection']\n",
    "\n",
    "for metric in metrics:\n",
    "    same_class_distance = compare_histograms(hist1, hist2, metric)\n",
    "    diff_class_distance = compare_histograms(hist1, hist3, metric)\n",
    "    \n",
    "    print(f'{metric.capitalize()} Distance (Same Class): {same_class_distance:.2f}')\n",
    "    print(f'{metric.capitalize()} Distance (Different Class): {diff_class_distance:.2f}')\n",
    "print()\n"
   ]
  },
  {
   "cell_type": "code",
   "execution_count": null,
   "id": "0caa78db-f85f-43c9-89fe-93e599d4629d",
   "metadata": {},
   "outputs": [],
   "source": []
  },
  {
   "cell_type": "code",
   "execution_count": null,
   "id": "77bd2212-c88a-4de5-8b68-7afa83be9854",
   "metadata": {},
   "outputs": [],
   "source": []
  }
 ],
 "metadata": {
  "kernelspec": {
   "display_name": "Python 3 (ipykernel)",
   "language": "python",
   "name": "python3"
  },
  "language_info": {
   "codemirror_mode": {
    "name": "ipython",
    "version": 3
   },
   "file_extension": ".py",
   "mimetype": "text/x-python",
   "name": "python",
   "nbconvert_exporter": "python",
   "pygments_lexer": "ipython3",
   "version": "3.11.2"
  }
 },
 "nbformat": 4,
 "nbformat_minor": 5
}
