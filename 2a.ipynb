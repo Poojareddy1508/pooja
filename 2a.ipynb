{
 "cells": [
  {
   "cell_type": "code",
   "execution_count": 1,
   "id": "cf758029-2f15-4018-93dd-3bc2e293597e",
   "metadata": {},
   "outputs": [],
   "source": [
    "import os as os\n",
    "import xml.etree.ElementTree as ET\n",
    "from PIL import Image\n",
    "from pathlib import Path\n",
    "\n",
    "# Define the paths to your dataset\n",
    "input_dir = r\"V:/poo asgn\"\n",
    "output_dir = r\"V:/result\"\n",
    "\n",
    "# Define the class names and corresponding directories\n",
    "class_names = [\n",
    "    \"n02093256-Staffordshire_bullterrier\",\n",
    "    \"n02111277-Newfoundland\",\n",
    "    \"n02113023-Pembroke\",\n",
    "    \"n02115641-dingo\"\n",
    "]\n",
    "\n",
    "# Define a function to get bounding box information from the annotations dataset\n",
    "def get_bounding_boxes(annot):\n",
    "    xml = annot\n",
    "    tree = ET.parse(xml)\n",
    "    root = tree.getroot()\n",
    "    objects = root.findall('object')\n",
    "    bbox = []\n",
    "    for o in objects:\n",
    "        bndbox = o.find('bndbox')\n",
    "        xmin = int(bndbox.find('xmin').text)\n",
    "        ymin = int(bndbox.find('ymin').text)\n",
    "        xmax = int(bndbox.find('xmax').text)\n",
    "        ymax = int(bndbox.find('ymax').text)\n",
    "        bbox.append((xmin, ymin, xmax, ymax))\n",
    "    return bbox\n",
    "\n",
    "# Iterate over class directories\n",
    "for class_name in class_names:\n",
    "    # Define paths to images and annotations for the current class\n",
    "    images_dir = os.path.join(input_dir, \"Images\", class_name)\n",
    "    annotations_dir = os.path.join(input_dir, \"Annotation\", class_name)\n",
    "    \n",
    "    # Get a list of image file paths for the current class\n",
    "    image_files = [os.path.join(images_dir, file) for file in os.listdir(images_dir) if file.endswith('.jpg')]\n",
    "    \n",
    "    # Create a subdirectory within the output directory for the current class\n",
    "    class_output_dir = os.path.join(output_dir, class_name)\n",
    "    os.makedirs(class_output_dir, exist_ok=True)\n",
    "    \n",
    "    # Iterate over image files\n",
    "    for image_file in image_files:\n",
    "        # Get bounding box information for the current image\n",
    "        annotation_file = os.path.join(annotations_dir, os.path.splitext(os.path.basename(image_file))[0])  # Assuming annotation files have no extensions\n",
    "        bbox = get_bounding_boxes(annotation_file)\n",
    "        \n",
    "        # Load the image\n",
    "        img = Image.open(image_file)\n",
    "        \n",
    "        for j in range(len(bbox)):\n",
    "            # Crop the image using the bounding box\n",
    "            x_min, y_min, x_max, y_max = bbox[j]\n",
    "            cropped_img = img.crop((x_min, y_min, x_max, y_max))\n",
    "            \n",
    "            # Resize the cropped image to 100x100 pixels\n",
    "            cropped_img = cropped_img.resize((100, 100))\n",
    "            \n",
    "            # Define the new file path for the cropped and resized image within the class subdirectory\n",
    "            new_path = os.path.join(class_output_dir, os.path.basename(image_file).replace('.jpg', f'-{j}.jpg'))\n",
    "            \n",
    "            # Save the cropped and resized image\n",
    "            cropped_img = cropped_img.convert('RGB')\n",
    "            cropped_img.save(new_path)\n"
   ]
  },
  {
   "cell_type": "code",
   "execution_count": null,
   "id": "1635ef17-32e8-493b-89c6-1e50c614884a",
   "metadata": {},
   "outputs": [],
   "source": []
  },
  {
   "cell_type": "code",
   "execution_count": null,
   "id": "fe20484b-8b64-4e79-9a77-6b41480c1f82",
   "metadata": {},
   "outputs": [],
   "source": []
  },
  {
   "cell_type": "code",
   "execution_count": null,
   "id": "3a6afc35-72fd-41c8-af9b-0706dd8b47e2",
   "metadata": {},
   "outputs": [],
   "source": []
  },
  {
   "cell_type": "code",
   "execution_count": null,
   "id": "357a0086-2287-4fc3-907c-3f976b2c93d9",
   "metadata": {},
   "outputs": [],
   "source": []
  },
  {
   "cell_type": "code",
   "execution_count": null,
   "id": "6a87c644-f756-4e6d-bffa-edd0f374bc44",
   "metadata": {},
   "outputs": [],
   "source": []
  },
  {
   "cell_type": "code",
   "execution_count": null,
   "id": "9e260827-37b8-442e-a5f9-26425df235a6",
   "metadata": {},
   "outputs": [],
   "source": []
  },
  {
   "cell_type": "code",
   "execution_count": null,
   "id": "287e5198-7525-4a7f-84e8-3c105c723177",
   "metadata": {},
   "outputs": [],
   "source": []
  },
  {
   "cell_type": "code",
   "execution_count": null,
   "id": "f10acc70-8d28-4b78-a1aa-2263048f66bc",
   "metadata": {},
   "outputs": [],
   "source": []
  },
  {
   "cell_type": "code",
   "execution_count": null,
   "id": "f7722a84-4354-4048-b122-62417a21ca5e",
   "metadata": {},
   "outputs": [],
   "source": []
  }
 ],
 "metadata": {
  "kernelspec": {
   "display_name": "Python 3 (ipykernel)",
   "language": "python",
   "name": "python3"
  },
  "language_info": {
   "codemirror_mode": {
    "name": "ipython",
    "version": 3
   },
   "file_extension": ".py",
   "mimetype": "text/x-python",
   "name": "python",
   "nbconvert_exporter": "python",
   "pygments_lexer": "ipython3",
   "version": "3.11.2"
  }
 },
 "nbformat": 4,
 "nbformat_minor": 5
}
